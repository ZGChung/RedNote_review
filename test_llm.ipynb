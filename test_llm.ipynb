{
 "cells": [
  {
   "cell_type": "markdown",
   "metadata": {},
   "source": [
    "# Unit test for the LLM call"
   ]
  },
  {
   "cell_type": "code",
   "execution_count": 1,
   "metadata": {},
   "outputs": [
    {
     "name": "stdout",
     "output_type": "stream",
     "text": [
      "Error calling OpenRouter API: Error code: 401 - {'error': {'message': 'No auth credentials found', 'code': 401}}\n"
     ]
    }
   ],
   "source": [
    "from src.call_llm import call_llm\n",
    "from src.default_prompt import SYSTEM_PROMPT, USER_PROMPT_SUGGESTION, USER_PROMPT_BETTER_TEXT\n",
    "\n",
    "text = \"\"\"🌸 日常妆容大揭秘！ 🌸\n",
    "姐妹们，今天要和大家分享我最近爱不释手的美妆单品！✨\n",
    "💖 底妆篇：这款轻薄水感粉底液，让肌肤透亮又自然，完全不显干！搭配上遮瑕膏，轻松遮住小瑕疵，妆效持久又服帖。\n",
    "💄 眼妆篇：我的心头好——大地色眼影盘，颜色超级百搭，日常妆和约会妆都能轻松搞定！再加上卷翘睫毛膏，眼睛瞬间放大！\n",
    "👄 唇妆篇：最后，选择了一款哑光唇釉，色泽饱满，持久不脱妆，出门一整天也不用补妆！\n",
    "✨ 使用心得：这些单品真的让我在妆容上加分不少，轻松打造出清新自然的妆感！推荐给每位爱美的你们！😘\n",
    "🔗 购买链接：快来一起变美吧！[链接]\n",
    "\"\"\"\n",
    "\n",
    "response = call_llm(\n",
    "    system_prompt=SYSTEM_PROMPT,\n",
    "    user_prompt=USER_PROMPT_SUGGESTION,\n",
    "    text=text,\n",
    ")\n",
    "print(response)\n"
   ]
  },
  {
   "cell_type": "code",
   "execution_count": null,
   "metadata": {},
   "outputs": [],
   "source": []
  }
 ],
 "metadata": {
  "kernelspec": {
   "display_name": "cendb",
   "language": "python",
   "name": "python3"
  },
  "language_info": {
   "codemirror_mode": {
    "name": "ipython",
    "version": 3
   },
   "file_extension": ".py",
   "mimetype": "text/x-python",
   "name": "python",
   "nbconvert_exporter": "python",
   "pygments_lexer": "ipython3",
   "version": "3.9.20"
  }
 },
 "nbformat": 4,
 "nbformat_minor": 2
}
