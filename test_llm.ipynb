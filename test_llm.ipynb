{
 "cells": [
  {
   "cell_type": "markdown",
   "metadata": {},
   "source": [
    "# Unit test for the LLM call"
   ]
  },
  {
   "cell_type": "code",
   "execution_count": 1,
   "metadata": {},
   "outputs": [
    {
     "name": "stdout",
     "output_type": "stream",
     "text": [
      "**建议逐步解释:**\n",
      "\n",
      "1. **内容清晰度:**\n",
      "   - 建议:为了让内容更清晰,可以在每个部分增加一些专业术语或者更详细的描述,帮助读者更好地理解各个美妆产品的特点。例如,可以在提到“水感粉底液”时,进一步说明它的一些专业特性,如“具有高moist属性”。这样可以让内容更丰富,也更容易让专业人士理解。\n",
      "\n",
      "2. **语法和风格:**\n",
      "   - 建议:虽然整体语法正确,但句子结构可以更加多样化,避免过于简单化。例如,在描述眼妆时,可以调整句子结构,使其更具流畅性。同时,可以适当使用一些连接词(如“首先”、“其次”、“最后”),来增强段落之间的逻辑性。此外,减少感叹号的使用,可以让语气更加平和,更符合正式文档的风格。\n",
      "\n",
      "3. **技术准确性:**\n",
      "   - 建议:可以增加一些具体的专业术语或技术信息,让内容更具深度。例如,在描述“卷翘睫毛膏”时,可以提到其使用的原理或者与其他类似产品的区别。这样不仅能让内容更准确,也能增加文章的可信度。此外,可以引用一些权威机构或专家的评价,来补充科技依据,使内容更加客观。\n",
      "\n",
      "4. **结构完整性:**\n",
      "   - 建议:可以在文章结尾增加一些额外的内容,如“阅读量很高,建议阅读:[相关文章]”,以引导读者进一步阅读。此外,可以补充一些关于产品适用人的信息,例如适合皮肤肤质的人群。这样可以让内容更加完整,也更加贴合目标读者。\n",
      "\n",
      "通过以上修改,可以使文章内容更加丰富、详细,并且更加易于理解。同时,这些建议将帮助文章在专业性和可读性方面都有所提升。\n"
     ]
    }
   ],
   "source": [
    "from src.call_llm import call_llm\n",
    "from src.default_prompt import SYSTEM_PROMPT, USER_PROMPT_SUGGESTION, USER_PROMPT_BETTER_TEXT\n",
    "\n",
    "text = \"\"\"🌸 日常妆容大揭秘！ 🌸\n",
    "姐妹们，今天要和大家分享我最近爱不释手的美妆单品！✨\n",
    "💖 底妆篇：这款轻薄水感粉底液，让肌肤透亮又自然，完全不显干！搭配上遮瑕膏，轻松遮住小瑕疵，妆效持久又服帖。\n",
    "💄 眼妆篇：我的心头好——大地色眼影盘，颜色超级百搭，日常妆和约会妆都能轻松搞定！再加上卷翘睫毛膏，眼睛瞬间放大！\n",
    "👄 唇妆篇：最后，选择了一款哑光唇釉，色泽饱满，持久不脱妆，出门一整天也不用补妆！\n",
    "✨ 使用心得：这些单品真的让我在妆容上加分不少，轻松打造出清新自然的妆感！推荐给每位爱美的你们！😘\n",
    "🔗 购买链接：快来一起变美吧！[链接]\n",
    "\"\"\"\n",
    "\n",
    "response = call_llm(\n",
    "    system_prompt=SYSTEM_PROMPT,\n",
    "    user_prompt=USER_PROMPT_SUGGESTION,\n",
    "    text=text,\n",
    ")\n",
    "print(response)\n"
   ]
  }
 ],
 "metadata": {
  "kernelspec": {
   "display_name": "cendb",
   "language": "python",
   "name": "python3"
  },
  "language_info": {
   "codemirror_mode": {
    "name": "ipython",
    "version": 3
   },
   "file_extension": ".py",
   "mimetype": "text/x-python",
   "name": "python",
   "nbconvert_exporter": "python",
   "pygments_lexer": "ipython3",
   "version": "3.9.20"
  }
 },
 "nbformat": 4,
 "nbformat_minor": 2
}
